{
  "nbformat": 4,
  "nbformat_minor": 0,
  "metadata": {
    "colab": {
      "name": "GDrives Copy",
      "provenance": [],
      "collapsed_sections": [],
      "authorship_tag": "ABX9TyPTY/ggk1pLKx578K5DX49u",
      "include_colab_link": true
    },
    "kernelspec": {
      "name": "python3",
      "display_name": "Python 3"
    },
    "language_info": {
      "name": "python"
    }
  },
  "cells": [
    {
      "cell_type": "markdown",
      "metadata": {
        "id": "view-in-github",
        "colab_type": "text"
      },
      "source": [
        "<a href=\"https://colab.research.google.com/github/rmgevana/Collab-Notebooks/blob/main/GDrives_Copy.ipynb\" target=\"_parent\"><img src=\"https://colab.research.google.com/assets/colab-badge.svg\" alt=\"Open In Colab\"/></a>"
      ]
    },
    {
      "cell_type": "code",
      "metadata": {
        "id": "tvU1Zq-ycLO0",
        "colab": {
          "base_uri": "https://localhost:8080/"
        },
        "outputId": "66f7cab6-f855-4dd1-d40d-32dbe008b2c1"
      },
      "source": [
        "from google.colab import drive\n",
        "drive.mount('/gdrive')"
      ],
      "execution_count": null,
      "outputs": [
        {
          "output_type": "stream",
          "text": [
            "Mounted at /gdrive\n"
          ],
          "name": "stdout"
        }
      ]
    },
    {
      "cell_type": "markdown",
      "metadata": {
        "id": "px7f5gsIcM9A"
      },
      "source": [
        "Test"
      ]
    },
    {
      "cell_type": "code",
      "metadata": {
        "colab": {
          "base_uri": "https://localhost:8080/"
        },
        "id": "8QuuakdXcYq6",
        "outputId": "388bc25b-1b8d-461f-b94d-71cb50e7c9c0"
      },
      "source": [
        "from google.colab import drive\n",
        "drive.mount('/gdrive')\n",
        "\n",
        "%cd /gdrive/My Drive/0/2019 (ARC)"
      ],
      "execution_count": null,
      "outputs": [
        {
          "output_type": "stream",
          "text": [
            "Drive already mounted at /gdrive; to attempt to forcibly remount, call drive.mount(\"/gdrive\", force_remount=True).\n",
            "/gdrive/Shareddrives/Transaction Count/2019 (ARC)\n"
          ],
          "name": "stdout"
        }
      ]
    },
    {
      "cell_type": "code",
      "metadata": {
        "colab": {
          "base_uri": "https://localhost:8080/",
          "height": 35
        },
        "id": "aQW0TaqOj7im",
        "outputId": "0e2b1174-ed49-4ee5-8394-01261720c81f"
      },
      "source": [
        "pwd"
      ],
      "execution_count": null,
      "outputs": [
        {
          "output_type": "execute_result",
          "data": {
            "application/vnd.google.colaboratory.intrinsic+json": {
              "type": "string"
            },
            "text/plain": [
              "'/gdrive/Shareddrives/Transaction Count/2019 (ARC)'"
            ]
          },
          "metadata": {
            "tags": []
          },
          "execution_count": 36
        }
      ]
    },
    {
      "cell_type": "code",
      "metadata": {
        "colab": {
          "base_uri": "https://localhost:8080/"
        },
        "id": "71tkXKe7kFj_",
        "outputId": "add61e7a-e769-4e81-cd01-fd61e2e9bbc6"
      },
      "source": [
        "%cd /gdrive/Shareddrives/Transaction Count\n"
      ],
      "execution_count": null,
      "outputs": [
        {
          "output_type": "stream",
          "text": [
            "/gdrive/Shareddrives/Transaction Count\n"
          ],
          "name": "stdout"
        }
      ]
    },
    {
      "cell_type": "code",
      "metadata": {
        "colab": {
          "base_uri": "https://localhost:8080/"
        },
        "id": "ArZJAVSio9YI",
        "outputId": "dc0119a2-70e4-4768-b227-0fe04f42a298"
      },
      "source": [
        "!cp -r '/gdrive/Shareddrives/Transaction Count/.' '/gdrive/Shareddrives/Personal Stuffs/GDrives'"
      ],
      "execution_count": null,
      "outputs": [
        {
          "output_type": "stream",
          "text": [
            "cp: cannot open '/gdrive/Shareddrives/Transaction Count/./2020 (RI)/Business/TXN COUNT & AVG BASKET SIZE REPORT_03.28.20.gsheet' for reading: Operation not supported\n"
          ],
          "name": "stdout"
        }
      ]
    },
    {
      "cell_type": "markdown",
      "metadata": {
        "id": "gzbRCzdyqRAQ"
      },
      "source": [
        "Copy a Drive  '/gdrive/Shareddrives/folder/.' -- means all files and folders under folder"
      ]
    },
    {
      "cell_type": "code",
      "metadata": {
        "id": "hulE3TeBqee1",
        "colab": {
          "base_uri": "https://localhost:8080/"
        },
        "outputId": "5fb18461-79b3-4106-a0f1-d44afc740747"
      },
      "source": [
        "!cp -r '/gdrive/Shareddrives/Transaction Count' '/gdrive/Shareddrives/Personal Stuffs'"
      ],
      "execution_count": null,
      "outputs": [
        {
          "output_type": "stream",
          "text": [
            "cp: cannot open '/gdrive/Shareddrives/Transaction Count/2020 (RI)/Business/TXN COUNT & AVG BASKET SIZE REPORT_03.28.20.gsheet' for reading: Operation not supported\n"
          ],
          "name": "stdout"
        }
      ]
    },
    {
      "cell_type": "code",
      "metadata": {
        "id": "n2ProtCrtfuL",
        "colab": {
          "base_uri": "https://localhost:8080/"
        },
        "outputId": "d8c33183-76a7-4bfc-b0d1-a4e4be5f4a0d"
      },
      "source": [
        "!cp -r '/gdrive/Shareddrives/MRSGI WAY 2.0 Project Shared Drive/.' '/gdrive/Shareddrives/Personal Stuffs/GDrives/MRSGI WAY 2.0 Project Shared Drive'"
      ],
      "execution_count": null,
      "outputs": [
        {
          "output_type": "stream",
          "text": [
            "cp: cannot open '/gdrive/Shareddrives/MRSGI WAY 2.0 Project Shared Drive/./Training/Category Planner & Category Manager Partnership Training/Category Planning Manager & Category Manager Partnership Training:  Post-Training Inquiries.gsheet' for reading: Operation not supported\n",
            "cp: cannot open \"/gdrive/Shareddrives/MRSGI WAY 2.0 Project Shared Drive/./Training/KPI's and Reporting Training/Pre-work/Hardlines Batch 2/De Guzman, Erish Jene/RPT Pre Work Questions Worksheet.gsheet\" for reading: Operation not supported\n",
            "cp: cannot open \"/gdrive/Shareddrives/MRSGI WAY 2.0 Project Shared Drive/./Training/KPI's and Reporting Training/Pre-work/Ladies/Paner,Vilma/PANER_RPT Pre Work Questions Worksheet.gsheet\" for reading: Operation not supported\n",
            "cp: cannot open '/gdrive/Shareddrives/MRSGI WAY 2.0 Project Shared Drive/./Training/T1-T2: Training Attendance.gsheet' for reading: Operation not supported\n",
            "cp: cannot open '/gdrive/Shareddrives/MRSGI WAY 2.0 Project Shared Drive/./PSA/Change Request Form.gdoc' for reading: Operation not supported\n",
            "cp: cannot open '/gdrive/Shareddrives/MRSGI WAY 2.0 Project Shared Drive/./PSA/Testing of Reports.gsheet' for reading: Operation not supported\n",
            "cp: cannot open '/gdrive/Shareddrives/MRSGI WAY 2.0 Project Shared Drive/./PSA/Deliverables/PSA educ session.gdoc' for reading: Operation not supported\n",
            "cp: cannot open '/gdrive/Shareddrives/MRSGI WAY 2.0 Project Shared Drive/./TIM/Education/Total Inventory Management.gsheet' for reading: Operation not supported\n",
            "cp: cannot open '/gdrive/Shareddrives/MRSGI WAY 2.0 Project Shared Drive/./TIM/Education/TIM Final Process Deck updated.gslides' for reading: Operation not supported\n",
            "cp: cannot open '/gdrive/Shareddrives/MRSGI WAY 2.0 Project Shared Drive/./ISM/Education/ISM_timestamp.gsheet' for reading: Operation not supported\n",
            "cp: cannot open '/gdrive/Shareddrives/MRSGI WAY 2.0 Project Shared Drive/./ISM/Education/ISM- Trade Management v0.1.gslides' for reading: Operation not supported\n",
            "cp: cannot open '/gdrive/Shareddrives/MRSGI WAY 2.0 Project Shared Drive/./ISM/Deliverables/MRSGI Way 2.0 - Reporting Formats for In Season Management (1).gsheet' for reading: Operation not supported\n",
            "cp: cannot open '/gdrive/Shareddrives/MRSGI WAY 2.0 Project Shared Drive/./ISM/Deliverables/In Season Management Weekly Business Recap -Trade Meeting Summary Template.gsheet' for reading: Operation not supported\n",
            "cp: cannot open '/gdrive/Shareddrives/MRSGI WAY 2.0 Project Shared Drive/./ISM/Deliverables/MRSGI Way 2.0 - Reporting Formats for In Season Management.gsheet' for reading: Operation not supported\n",
            "cp: cannot open '/gdrive/Shareddrives/MRSGI WAY 2.0 Project Shared Drive/./ISM/BP Documentation/ISM Business Process Analysis & Design Kick-off Presentation.gslides' for reading: Operation not supported\n",
            "cp: cannot open '/gdrive/Shareddrives/MRSGI WAY 2.0 Project Shared Drive/./ISM/BP Documentation/ISM Crawl Discussion.gslides' for reading: Operation not supported\n",
            "cp: cannot open '/gdrive/Shareddrives/MRSGI WAY 2.0 Project Shared Drive/./ISM/BP Documentation/Weekly Traded Meetings Workshop.gslides' for reading: Operation not supported\n",
            "cp: cannot open '/gdrive/Shareddrives/MRSGI WAY 2.0 Project Shared Drive/./ISM/Reports Templates/MRSGI Way 2.0 - Reporting Formats for In Season Management.gsheet' for reading: Operation not supported\n",
            "cp: cannot open '/gdrive/Shareddrives/MRSGI WAY 2.0 Project Shared Drive/./ISM/Reports Templates/Reports Assignment.gslides' for reading: Operation not supported\n",
            "cp: cannot open '/gdrive/Shareddrives/MRSGI WAY 2.0 Project Shared Drive/./ISM/Reports Templates/In Season Management Weekly Business Recap -Trade Meeting Summary Template.gsheet' for reading: Operation not supported\n",
            "cp: cannot open '/gdrive/Shareddrives/MRSGI WAY 2.0 Project Shared Drive/./ISM/Reports Templates/Meeting Guides.gslides' for reading: Operation not supported\n",
            "cp: cannot open '/gdrive/Shareddrives/MRSGI WAY 2.0 Project Shared Drive/./Reports/Rowena Conde/Ladies Shoes_Brand Matrix with Area per store_082520.gsheet' for reading: Operation not supported\n",
            "cp: cannot open '/gdrive/Shareddrives/MRSGI WAY 2.0 Project Shared Drive/./Reports/Reporting Requirements/MRSGI New Reporting Requirements - Final.gsheet' for reading: Operation not supported\n",
            "cp: cannot open '/gdrive/Shareddrives/MRSGI WAY 2.0 Project Shared Drive/./Reports/MRSGI WAY Phase 2.0 Reports Testing.gsheet' for reading: Operation not supported\n",
            "cp: cannot open '/gdrive/Shareddrives/MRSGI WAY 2.0 Project Shared Drive/./PMO/Initiation/MRSGI WAY 2.0_Kick Off_09.24.2020 (1).gdoc' for reading: Operation not supported\n",
            "cp: cannot open '/gdrive/Shareddrives/MRSGI WAY 2.0 Project Shared Drive/./PMO/Initiation/MRSGI WAY 2.0_Kick Off_09.24.2020.gdoc' for reading: Operation not supported\n",
            "cp: cannot open '/gdrive/Shareddrives/MRSGI WAY 2.0 Project Shared Drive/./PMO/Initiation/Phase 2/MRSGI Way 2.0 Roll-Out Approach.gslides' for reading: Operation not supported\n",
            "cp: cannot open '/gdrive/Shareddrives/MRSGI WAY 2.0 Project Shared Drive/./PMO/Initiation/Phase 2/MSRSGI Way 2.0 Phase 2 - Business Requirements (TOR).gsheet' for reading: Operation not supported\n",
            "cp: cannot open '/gdrive/Shareddrives/MRSGI WAY 2.0 Project Shared Drive/./PMO/Planning/MRSGI Project Plan - Business Representative Time updated.gsheet' for reading: Operation not supported\n",
            "cp: cannot open '/gdrive/Shareddrives/MRSGI WAY 2.0 Project Shared Drive/./PMO/Planning/Project Team Register_MRSGI WAY 2.0 Phase 1.gsheet' for reading: Operation not supported\n",
            "cp: cannot open '/gdrive/Shareddrives/MRSGI WAY 2.0 Project Shared Drive/./PMO/Planning/MRSGI 2.0 Schedule of Activities.xlsx.gsheet' for reading: Operation not supported\n",
            "cp: cannot open '/gdrive/Shareddrives/MRSGI WAY 2.0 Project Shared Drive/./PMO/MRSGI Way 2.0 Kick Off Preparation.gsheet' for reading: Operation not supported\n",
            "cp: cannot open '/gdrive/Shareddrives/MRSGI WAY 2.0 Project Shared Drive/./PMO/Project Steercom Updates/MRSGI Way 2.0 Project Steercom Updates.gslides' for reading: Operation not supported\n",
            "cp: cannot open '/gdrive/Shareddrives/MRSGI WAY 2.0 Project Shared Drive/./PMO/MRSGI Way 2.0 - Business Process Inquiries.gsheet' for reading: Operation not supported\n",
            "cp: cannot create symbolic link '/gdrive/Shareddrives/Personal Stuffs/GDrives/MRSGI WAY 2.0 Project Shared Drive/./BI Team/OBIEE Reports': Operation not supported\n",
            "cp: cannot open '/gdrive/Shareddrives/MRSGI WAY 2.0 Project Shared Drive/./BI Team/T103914_Data Extracts/Item-UDA Look-up/9-BRAND_2570_540_7040_5020.gsheet' for reading: Operation not supported\n",
            "cp: cannot open '/gdrive/Shareddrives/MRSGI WAY 2.0 Project Shared Drive/./BI Team/Post Season Analysis (PSA) Measures Tracking.gsheet' for reading: Operation not supported\n",
            "cp: cannot open '/gdrive/Shareddrives/MRSGI WAY 2.0 Project Shared Drive/./BI Team/Measures for PSA MRSGI Report - Please validate.gsheet' for reading: Operation not supported\n",
            "cp: cannot open '/gdrive/Shareddrives/MRSGI WAY 2.0 Project Shared Drive/./Phase 2/Planning/Project Plan/Untitled spreadsheet.gsheet' for reading: Operation not supported\n",
            "cp: cannot open '/gdrive/Shareddrives/MRSGI WAY 2.0 Project Shared Drive/./Phase 2/Analysis & Design/Business Process/PSA Business Process Analysis & Design Workshops.gslides' for reading: Operation not supported\n",
            "cp: cannot open '/gdrive/Shareddrives/MRSGI WAY 2.0 Project Shared Drive/./Phase 2/Analysis & Design/Discussions/Untitled presentation.gslides' for reading: Operation not supported\n",
            "cp: cannot open '/gdrive/Shareddrives/MRSGI WAY 2.0 Project Shared Drive/./Phase 2/Analysis & Design/MRSGI Way Phase 2 - Analysis & Design Workshop.gslides' for reading: Operation not supported\n",
            "cp: cannot open '/gdrive/Shareddrives/MRSGI WAY 2.0 Project Shared Drive/./Phase 2/Analysis & Design/MRSGI Way Phase 2 - Project Timeline 3 10 21.gslides' for reading: Operation not supported\n",
            "cp: cannot open '/gdrive/Shareddrives/MRSGI WAY 2.0 Project Shared Drive/./Phase 2/Analysis & Design/MRSGI Way Phase 2 - Check Point Meeting.gslides' for reading: Operation not supported\n",
            "cp: cannot open '/gdrive/Shareddrives/MRSGI WAY 2.0 Project Shared Drive/./Phase 2/Project Team Register_MRSGI WAY 2.0 Phase 2.gsheet' for reading: Operation not supported\n",
            "cp: cannot open '/gdrive/Shareddrives/MRSGI WAY 2.0 Project Shared Drive/./Phase 2/Issue_Risk Log Register - MRSGI Way Phase 2 .gsheet' for reading: Operation not supported\n",
            "cp: cannot open '/gdrive/Shareddrives/MRSGI WAY 2.0 Project Shared Drive/./Merchandisind Calendar vs MRSGI Way Phase 2 Implementation.gsheet' for reading: Operation not supported\n",
            "cp: cannot open '/gdrive/Shareddrives/MRSGI WAY 2.0 Project Shared Drive/./Merchandise Financial Budget Process.gslides' for reading: Operation not supported\n"
          ],
          "name": "stdout"
        }
      ]
    },
    {
      "cell_type": "code",
      "metadata": {
        "id": "8Z6fDIbWuENH"
      },
      "source": [
        "!cp -r '/gdrive/Shareddrives/References' '/gdrive/Shareddrives/Personal Stuffs/GDrives'"
      ],
      "execution_count": null,
      "outputs": []
    },
    {
      "cell_type": "code",
      "metadata": {
        "id": "k8mV29k9uIT7",
        "colab": {
          "base_uri": "https://localhost:8080/"
        },
        "outputId": "cad05a35-5445-4ff8-a2e3-e53367df24e9"
      },
      "source": [
        "!cp -r '/gdrive/Shareddrives/RMS Opt.- Data Enrichment Project Shared Drive' '/gdrive/Shareddrives/Personal Stuffs/GDrives'"
      ],
      "execution_count": null,
      "outputs": [
        {
          "output_type": "stream",
          "text": [
            "cp: cannot open '/gdrive/Shareddrives/RMS Opt.- Data Enrichment Project Shared Drive/PMO/Minutes of Meeting/Minutes of Meeting_RMS Opt.gsheet' for reading: Operation not supported\n",
            "cp: cannot open '/gdrive/Shareddrives/RMS Opt.- Data Enrichment Project Shared Drive/PMO/Minutes of Meeting/Minutes of Meeting_CTV_ATOM Presentation.gsheet' for reading: Operation not supported\n",
            "cp: cannot open '/gdrive/Shareddrives/RMS Opt.- Data Enrichment Project Shared Drive/PMO/Minutes of Meeting/MOM_Shrinkage Inventory Adjustment Monthly Steercom meeting - 1 28 2021.gsheet' for reading: Operation not supported\n",
            "cp: cannot open '/gdrive/Shareddrives/RMS Opt.- Data Enrichment Project Shared Drive/Planning/DATA ENRICHMENT ROLLOUT.gsheet' for reading: Operation not supported\n",
            "cp: cannot open '/gdrive/Shareddrives/RMS Opt.- Data Enrichment Project Shared Drive/Planning/RMS Opt Project Team Register.gsheet' for reading: Operation not supported\n",
            "cp: cannot open '/gdrive/Shareddrives/RMS Opt.- Data Enrichment Project Shared Drive/Initiation/RMS Optimization Advisory-Comments Matrix.gsheet' for reading: Operation not supported\n",
            "cp: cannot open '/gdrive/Shareddrives/RMS Opt.- Data Enrichment Project Shared Drive/Initiation/Logic Proposal Issue Register_RMS Optimization.gsheet' for reading: Operation not supported\n",
            "cp: cannot open '/gdrive/Shareddrives/RMS Opt.- Data Enrichment Project Shared Drive/Initiation/Project Charter - RMS Optimization.gdoc' for reading: Operation not supported\n",
            "cp: cannot open '/gdrive/Shareddrives/RMS Opt.- Data Enrichment Project Shared Drive/Data Enrichment Project/Initiation/RMS Reclass Automation v1.0.gslides' for reading: Operation not supported\n",
            "cp: cannot open '/gdrive/Shareddrives/RMS Opt.- Data Enrichment Project Shared Drive/Data Enrichment Project/Planning/Issue_Risk Log Register - Data Enrichment.gsheet' for reading: Operation not supported\n",
            "cp: cannot open '/gdrive/Shareddrives/RMS Opt.- Data Enrichment Project Shared Drive/Data Enrichment Project/Planning/Data Enrichment Project Team Register.gsheet' for reading: Operation not supported\n",
            "cp: cannot open '/gdrive/Shareddrives/RMS Opt.- Data Enrichment Project Shared Drive/Data Enrichment Project/Planning/MRSGI - Data Enrichment Project Plan.gsheet' for reading: Operation not supported\n",
            "cp: cannot open '/gdrive/Shareddrives/RMS Opt.- Data Enrichment Project Shared Drive/Data Enrichment Project/Planning/DE Rollout Draft Project Plan.gsheet' for reading: Operation not supported\n",
            "cp: cannot open '/gdrive/Shareddrives/RMS Opt.- Data Enrichment Project Shared Drive/Data Enrichment Project/Planning/DE Rollout Draft_08122020 (1).gsheet' for reading: Operation not supported\n",
            "cp: cannot open '/gdrive/Shareddrives/RMS Opt.- Data Enrichment Project Shared Drive/Data Enrichment Project/Planning/DE Rollout Draft_08122020.gsheet' for reading: Operation not supported\n",
            "cp: cannot open '/gdrive/Shareddrives/RMS Opt.- Data Enrichment Project Shared Drive/Data Enrichment Project/Planning/DE Rollout Plan Draft Scenario 4.gsheet' for reading: Operation not supported\n",
            "cp: cannot open '/gdrive/Shareddrives/RMS Opt.- Data Enrichment Project Shared Drive/Data Enrichment Project/Planning/Project Timeline.gsheet' for reading: Operation not supported\n",
            "cp: cannot open '/gdrive/Shareddrives/RMS Opt.- Data Enrichment Project Shared Drive/Data Enrichment Project/Planning/DE ,Reclass and AP IP Project Timeline_08252020.gslides' for reading: Operation not supported\n",
            "cp: cannot open '/gdrive/Shareddrives/RMS Opt.- Data Enrichment Project Shared Drive/Data Enrichment Project/Planning/DE Rollout Plan  - Final.gsheet' for reading: Operation not supported\n",
            "cp: cannot open '/gdrive/Shareddrives/RMS Opt.- Data Enrichment Project Shared Drive/Data Enrichment Project/Test/UAT Screenshots/WMS_Niño_UAT Screenshots Notes.gdoc' for reading: Operation not supported\n",
            "cp: cannot open '/gdrive/Shareddrives/RMS Opt.- Data Enrichment Project Shared Drive/Data Enrichment Project/Test/UAT Screenshots/SIM_Noli_UAT Screenshots Notes.gdoc' for reading: Operation not supported\n",
            "cp: cannot open '/gdrive/Shareddrives/RMS Opt.- Data Enrichment Project Shared Drive/Data Enrichment Project/Test/UAT Screenshots/ALLOC_Sheen_UAT Screenshots Notes.gdoc' for reading: Operation not supported\n",
            "cp: cannot open '/gdrive/Shareddrives/RMS Opt.- Data Enrichment Project Shared Drive/Data Enrichment Project/Test/UAT Screenshots/RMS_Sheen_UAT Screenshots Notes.gdoc' for reading: Operation not supported\n",
            "cp: cannot open '/gdrive/Shareddrives/RMS Opt.- Data Enrichment Project Shared Drive/Data Enrichment Project/Test/UAT Screenshots/RPM_Aires_UAT Screenshots Notes.gdoc' for reading: Operation not supported\n",
            "cp: cannot open '/gdrive/Shareddrives/RMS Opt.- Data Enrichment Project Shared Drive/Data Enrichment Project/Test/UAT Screenshots/REIM_Ghoda_UAT Screenshots Notes.gdoc' for reading: Operation not supported\n",
            "cp: cannot open '/gdrive/Shareddrives/RMS Opt.- Data Enrichment Project Shared Drive/Data Enrichment Project/Test/UAT Screenshots/POS RESA_Jonnah_UAT Screenshots Notes.gdoc' for reading: Operation not supported\n",
            "cp: cannot open '/gdrive/Shareddrives/RMS Opt.- Data Enrichment Project Shared Drive/Data Enrichment Project/Test/UAT Screenshots/ALLOC_Ana Fatima_UAT Screenshots Notes.gdoc' for reading: Operation not supported\n",
            "cp: cannot open '/gdrive/Shareddrives/RMS Opt.- Data Enrichment Project Shared Drive/Data Enrichment Project/Test/UAT Screenshots/BACKOFFICE_Aires Glenda_UAT Screenshots Notes.gdoc' for reading: Operation not supported\n",
            "cp: cannot open '/gdrive/Shareddrives/RMS Opt.- Data Enrichment Project Shared Drive/Data Enrichment Project/Test/UAT Screenshots/RI_UAT Screenshots Notes.gdoc' for reading: Operation not supported\n",
            "cp: cannot open '/gdrive/Shareddrives/RMS Opt.- Data Enrichment Project Shared Drive/Data Enrichment Project/Test/UAT Screenshots/RMS_Aires_UAT Screenshots Notes.gdoc' for reading: Operation not supported\n",
            "cp: cannot open '/gdrive/Shareddrives/RMS Opt.- Data Enrichment Project Shared Drive/Data Enrichment Project/Test/UAT Test Plan/User Acceptance Test-Plan.gsheet' for reading: Operation not supported\n",
            "cp: cannot open '/gdrive/Shareddrives/RMS Opt.- Data Enrichment Project Shared Drive/Data Enrichment Project/Test/UAT Test Plan/User Acceptance Test-Plan_v2.gsheet' for reading: Operation not supported\n",
            "cp: cannot open '/gdrive/Shareddrives/RMS Opt.- Data Enrichment Project Shared Drive/Data Enrichment Project/Test/UAT Test Plan/Copy of Data Enrichment UAT (1).gsheet' for reading: Operation not supported\n",
            "cp: cannot open '/gdrive/Shareddrives/RMS Opt.- Data Enrichment Project Shared Drive/Data Enrichment Project/Test/UAT Test Plan/Copy of Data Enrichment UAT.gsheet' for reading: Operation not supported\n",
            "cp: cannot open '/gdrive/Shareddrives/RMS Opt.- Data Enrichment Project Shared Drive/Data Enrichment Project/Test/UAT Test Plan/Data Enrichment UAT.gsheet' for reading: Operation not supported\n",
            "cp: cannot open '/gdrive/Shareddrives/RMS Opt.- Data Enrichment Project Shared Drive/Data Enrichment Project/Deploy/RFC - Data Enrichment - UDA.gdoc' for reading: Operation not supported\n",
            "cp: cannot open '/gdrive/Shareddrives/RMS Opt.- Data Enrichment Project Shared Drive/Data Enrichment Project/Deploy/Deployment Plan - Data Enrichment.gsheet' for reading: Operation not supported\n",
            "cp: cannot open '/gdrive/Shareddrives/RMS Opt.- Data Enrichment Project Shared Drive/Data Enrichment Project/Deploy/RFC - Data Enrichment - Item Parent.gdoc' for reading: Operation not supported\n",
            "cp: cannot open '/gdrive/Shareddrives/RMS Opt.- Data Enrichment Project Shared Drive/Data Enrichment Project/PMO/References/Data Enrichment Project Deliverable Sheet.gsheet' for reading: Operation not supported\n",
            "cp: cannot open '/gdrive/Shareddrives/RMS Opt.- Data Enrichment Project Shared Drive/Data Enrichment Project/PMO/JIRA Requirements_Data Enrichment.gsheet' for reading: Operation not supported\n",
            "cp: cannot open '/gdrive/Shareddrives/RMS Opt.- Data Enrichment Project Shared Drive/Data Enrichment Project/PMO/Jira Service Desk.gsheet' for reading: Operation not supported\n",
            "cp: cannot open \"/gdrive/Shareddrives/RMS Opt.- Data Enrichment Project Shared Drive/Data Enrichment Project/Correction Mapping Spreadsheets Pilot Groups - Final/Men's Outerwear/MensOuterwear_NewItemParentrwDIFFSPROD.gsheet\" for reading: Operation not supported\n",
            "cp: cannot open '/gdrive/Shareddrives/RMS Opt.- Data Enrichment Project Shared Drive/RMS Optimisation Final Deliverable Document/Final Checkpoint Meeting - RMS Optimisation Deliverable Final MRSGI.gslides' for reading: Operation not supported\n",
            "cp: cannot open '/gdrive/Shareddrives/RMS Opt.- Data Enrichment Project Shared Drive/RMS Optimisation Final Deliverable Document/02 RMS Optimization Questions and Answers.gdoc' for reading: Operation not supported\n",
            "cp: cannot open '/gdrive/Shareddrives/RMS Opt.- Data Enrichment Project Shared Drive/Hierarchy Reclass/Planning/Hierarchy  Outright Timeline.gsheet' for reading: Operation not supported\n",
            "cp: cannot open '/gdrive/Shareddrives/RMS Opt.- Data Enrichment Project Shared Drive/Hierarchy Reclass/Planning/Hierarchy  Concess Timeline.gsheet' for reading: Operation not supported\n",
            "cp: cannot open '/gdrive/Shareddrives/RMS Opt.- Data Enrichment Project Shared Drive/Hierarchy Reclass/Deploy/RFC - Hierarchy Reclass.gdoc' for reading: Operation not supported\n",
            "cp: cannot open '/gdrive/Shareddrives/RMS Opt.- Data Enrichment Project Shared Drive/Hierarchy Reclass/Deploy/Deployment Plan - Reclass Automation.gsheet' for reading: Operation not supported\n"
          ],
          "name": "stdout"
        }
      ]
    },
    {
      "cell_type": "code",
      "metadata": {
        "id": "kJAbHnKouciL",
        "colab": {
          "base_uri": "https://localhost:8080/"
        },
        "outputId": "6ee82db8-1e3f-4b1e-8eff-51a67c9db5d5"
      },
      "source": [
        "!cp -r '/gdrive/Shareddrives/Merchandising Team Shared Drive' '/gdrive/Shareddrives/Personal Stuffs/GDrives'"
      ],
      "execution_count": null,
      "outputs": [
        {
          "output_type": "stream",
          "text": [
            "cp: cannot open '/gdrive/Shareddrives/Merchandising Team Shared Drive/HR Related/2021 Merchandising Work Arrangement.gsheet' for reading: Operation not supported\n",
            "cp: cannot open '/gdrive/Shareddrives/Merchandising Team Shared Drive/HR Related/Merchandising Directory 2021.gsheet' for reading: Operation not supported\n",
            "cp: cannot open '/gdrive/Shareddrives/Merchandising Team Shared Drive/HR Related/Merchandising Group Contact List.gsheet' for reading: Operation not supported\n",
            "cp: cannot open '/gdrive/Shareddrives/Merchandising Team Shared Drive/Projects/20K Project and Give-up Space/S17 BETH_14AUG19_AP_ORIGINAL FILE.gsheet' for reading: Operation not supported\n",
            "cp: cannot open '/gdrive/Shareddrives/Merchandising Team Shared Drive/Projects/20K Project and Give-up Space/S17 BETH_14AUG19_AP_TEMP GF.gsheet' for reading: Operation not supported\n",
            "cp: cannot open '/gdrive/Shareddrives/Merchandising Team Shared Drive/Projects/20K Project and Give-up Space/S8 TOLEDO_18JUL19_AP_ORIGINAL FILE.gsheet' for reading: Operation not supported\n",
            "cp: cannot open '/gdrive/Shareddrives/Merchandising Team Shared Drive/Projects/20K Project and Give-up Space/Space Productivity - Beth 011821.gsheet' for reading: Operation not supported\n",
            "cp: cannot open '/gdrive/Shareddrives/Merchandising Team Shared Drive/Projects/20K Project and Give-up Space/Space Prod_H11_Calamba.gsheet' for reading: Operation not supported\n",
            "cp: cannot open '/gdrive/Shareddrives/Merchandising Team Shared Drive/Projects/20K Project and Give-up Space/Space Prod_S13 Imus Give Up Space.gsheet' for reading: Operation not supported\n",
            "cp: cannot open '/gdrive/Shareddrives/Merchandising Team Shared Drive/Projects/20K Project and Give-up Space/Space Prod_Metro Bacolod.gsheet' for reading: Operation not supported\n",
            "cp: cannot open '/gdrive/Shareddrives/Merchandising Team Shared Drive/Projects/20K Project and Give-up Space/beta_space prod.gsheet' for reading: Operation not supported\n",
            "cp: cannot open '/gdrive/Shareddrives/Merchandising Team Shared Drive/Projects/20K Project and Give-up Space/Space Prod_Oval.gsheet' for reading: Operation not supported\n",
            "cp: cannot open '/gdrive/Shareddrives/Merchandising Team Shared Drive/Projects/20K Project and Give-up Space/Space Prod_Metro Feliz.gsheet' for reading: Operation not supported\n",
            "cp: cannot open '/gdrive/Shareddrives/Merchandising Team Shared Drive/Projects/20K Project and Give-up Space/Space Prod_20KSpaceProject.gsheet' for reading: Operation not supported\n"
          ],
          "name": "stdout"
        }
      ]
    },
    {
      "cell_type": "code",
      "metadata": {
        "colab": {
          "base_uri": "https://localhost:8080/"
        },
        "id": "KzHVcr1B2BSm",
        "outputId": "93c508b4-d511-4255-9c57-f9b005709b98"
      },
      "source": [
        "!cp -r '/gdrive/Shareddrives/Supermarket' '/gdrive/Shareddrives/Personal Stuffs/GDrives'"
      ],
      "execution_count": null,
      "outputs": [
        {
          "output_type": "stream",
          "text": [
            "cp: cannot open '/gdrive/Shareddrives/Supermarket/File Directory.gsheet' for reading: Operation not supported\n"
          ],
          "name": "stdout"
        }
      ]
    },
    {
      "cell_type": "code",
      "metadata": {
        "id": "XN4kWCeu2R24"
      },
      "source": [
        "!cp -r '/gdrive/Shareddrives/BusinessShared/.' '/gdrive/Shareddrives/Personal Stuffs/GDrives/BusinessShared'"
      ],
      "execution_count": null,
      "outputs": []
    },
    {
      "cell_type": "code",
      "metadata": {
        "colab": {
          "base_uri": "https://localhost:8080/"
        },
        "id": "kPWGqlzv49Y9",
        "outputId": "34a53d36-b399-47d1-bca9-108a316038d7"
      },
      "source": [
        "!cp -r '/gdrive/Shareddrives/_Basic Grocery Critical Path Audit Repositories_/.' '/gdrive/Shareddrives/Personal Stuffs/GDrives/Basic Grocery Critical Path Audit Repositories'"
      ],
      "execution_count": null,
      "outputs": [
        {
          "output_type": "stream",
          "text": [
            "cp: cannot open '/gdrive/Shareddrives/_Basic Grocery Critical Path Audit Repositories_/./MRSGI Strategy on a Page (Merchandising).pdf' for reading: No such file or directory\n",
            "cp: cannot open '/gdrive/Shareddrives/_Basic Grocery Critical Path Audit Repositories_/./0 GM_Full Year Strategy & Plans/PIVOT_2021 PS_MO SLS-MGN PLAN_FOOD RETAIL.xlsx' for reading: No such file or directory\n",
            "cp: cannot open '/gdrive/Shareddrives/_Basic Grocery Critical Path Audit Repositories_/./0 GM_Full Year Strategy & Plans/Y2021 Sales and Margin AF Budget_All Stores_Grocery_01.29.2021.xlsx' for reading: No such file or directory\n",
            "cp: cannot open '/gdrive/Shareddrives/_Basic Grocery Critical Path Audit Repositories_/./0 GM_Full Year Strategy & Plans/2021 MRSGI Strategy on a Page_Grocery_Final.xlsx' for reading: No such file or directory\n"
          ],
          "name": "stdout"
        }
      ]
    },
    {
      "cell_type": "code",
      "metadata": {
        "colab": {
          "base_uri": "https://localhost:8080/"
        },
        "id": "P2I1VsxW55zv",
        "outputId": "f426df11-148c-4742-9f88-5e4c19f6ca6c"
      },
      "source": [
        "!cp -r '/gdrive/Shareddrives/_Fresh Critical Path Audit Repositories_/.' '/gdrive/Shareddrives/Personal Stuffs/GDrives/Fresh Critical Path Audit Repositories'"
      ],
      "execution_count": null,
      "outputs": [
        {
          "output_type": "stream",
          "text": [
            "cp: cannot open '/gdrive/Shareddrives/_Fresh Critical Path Audit Repositories_/./MRSGI Strategy on a Page (Merchandising).pdf' for reading: No such file or directory\n",
            "cp: cannot open '/gdrive/Shareddrives/_Fresh Critical Path Audit Repositories_/./0 GM_Full Year Strategy & Plans/PIVOT_2021 PS_MO SLS-MGN PLAN_FOOD RETAIL.xlsx' for reading: No such file or directory\n",
            "cp: cannot open '/gdrive/Shareddrives/_Fresh Critical Path Audit Repositories_/./0 GM_Full Year Strategy & Plans/Y2021 Sales and Margin AF Budget_All Stores_Fresh_01.29.2021.xlsx' for reading: No such file or directory\n"
          ],
          "name": "stdout"
        }
      ]
    },
    {
      "cell_type": "code",
      "metadata": {
        "id": "ihwa0xJe6d1l",
        "colab": {
          "base_uri": "https://localhost:8080/"
        },
        "outputId": "c96bfd40-c1bd-4f14-b336-e41d199af779"
      },
      "source": [
        "!cp -r '/gdrive/Shareddrives/BI Team  (Business Side)/.' '/gdrive/Shareddrives/Personal Stuffs/GDrives/BI Team  (Business Side)'"
      ],
      "execution_count": null,
      "outputs": [
        {
          "output_type": "stream",
          "text": [
            "cp: cannot open '/gdrive/Shareddrives/BI Team  (Business Side)/./BI Administration/Planning Issues.gsheet' for reading: Operation not supported\n",
            "cp: cannot open '/gdrive/Shareddrives/BI Team  (Business Side)/./BI Administration/Meetings/RI Implementation.gsheet' for reading: Operation not supported\n",
            "cp: cannot open '/gdrive/Shareddrives/BI Team  (Business Side)/./BI Administration/Meetings/RI Presentation_6.18.20.gslides' for reading: Operation not supported\n",
            "cp: cannot open '/gdrive/Shareddrives/BI Team  (Business Side)/./BI Administration/Meetings/ARC BI Decommissioning.gdoc' for reading: Operation not supported\n",
            "cp: cannot open '/gdrive/Shareddrives/BI Team  (Business Side)/./BI Administration/Meetings/Meeting Agenda.gdoc' for reading: Operation not supported\n",
            "cp: cannot open '/gdrive/Shareddrives/BI Team  (Business Side)/./BI Administration/Meetings/ARC BI Decommissioning.gsheet' for reading: Operation not supported\n",
            "cp: cannot open '/gdrive/Shareddrives/BI Team  (Business Side)/./BI Administration/Report Development Procedures Front Page.gdoc' for reading: Operation not supported\n",
            "cp: cannot open '/gdrive/Shareddrives/BI Team  (Business Side)/./BI Administration/BI Support.gsheet' for reading: Operation not supported\n",
            "cp: cannot open '/gdrive/Shareddrives/BI Team  (Business Side)/./BI Administration/Metro OBIEE Security Matrix - Prod.gsheet' for reading: Operation not supported\n",
            "cp: cannot open '/gdrive/Shareddrives/BI Team  (Business Side)/./BI Administration/BI & IT Activities.gsheet' for reading: Operation not supported\n",
            "cp: cannot open '/gdrive/Shareddrives/BI Team  (Business Side)/./Roel/QLIK NI BAI FRANK (1).gdoc' for reading: Operation not supported\n",
            "cp: cannot open '/gdrive/Shareddrives/BI Team  (Business Side)/./Roel/QLIK NI BAI FRANK.gdoc' for reading: Operation not supported\n",
            "cp: cannot open '/gdrive/Shareddrives/BI Team  (Business Side)/./Roel/BI Work Sched.gsheet' for reading: Operation not supported\n",
            "cp: cannot open '/gdrive/Shareddrives/BI Team  (Business Side)/./Work from Home/Daily Accomplishment Report/Sample.gsheet' for reading: Operation not supported\n",
            "cp: cannot open '/gdrive/Shareddrives/BI Team  (Business Side)/./Work from Home/Daily Accomplishment Report/JDGranado.gsheet' for reading: Operation not supported\n",
            "cp: cannot open '/gdrive/Shareddrives/BI Team  (Business Side)/./Work from Home/Daily Accomplishment Report/V.Eco.gsheet' for reading: Operation not supported\n",
            "cp: cannot open '/gdrive/Shareddrives/BI Team  (Business Side)/./Work from Home/Daily Accomplishment Report/CAliño.gsheet' for reading: Operation not supported\n",
            "cp: cannot open '/gdrive/Shareddrives/BI Team  (Business Side)/./Work from Home/Daily Accomplishment Report/NPLim.gsheet' for reading: Operation not supported\n",
            "cp: cannot open '/gdrive/Shareddrives/BI Team  (Business Side)/./Work from Home/Daily Accomplishment Report/BI Daily Accomplishment Report.gsheet' for reading: Operation not supported\n",
            "cp: cannot open '/gdrive/Shareddrives/BI Team  (Business Side)/./Work from Home/BI Activities_WFH.gsheet' for reading: Operation not supported\n",
            "cp: cannot open '/gdrive/Shareddrives/BI Team  (Business Side)/./BI Forms/DRF.gform' for reading: Operation not supported\n",
            "cp: cannot open '/gdrive/Shareddrives/BI Team  (Business Side)/./BI Forms/Form Publisher Output'\\''s Folder/Request: Roel 2.gdoc' for reading: Operation not supported\n",
            "cp: cannot open '/gdrive/Shareddrives/BI Team  (Business Side)/./BI Forms/Access Form for Data Repositories.gform' for reading: Operation not supported\n",
            "cp: cannot open '/gdrive/Shareddrives/BI Team  (Business Side)/./BI Forms/Request to Access Data Repository.gdoc' for reading: Operation not supported\n",
            "cp: cannot open '/gdrive/Shareddrives/BI Team  (Business Side)/./BI Forms/OBIEE_UARF.gdoc' for reading: Operation not supported\n",
            "cp: cannot open '/gdrive/Shareddrives/BI Team  (Business Side)/./BI Forms/Accomplished BCP Forms/Y2020/BCP Form v3_ISO SMR SKU Level/BCP_SKU ISO Sales and Margin Perf.gdoc' for reading: Operation not supported\n",
            "cp: cannot open '/gdrive/Shareddrives/BI Team  (Business Side)/./Retail Insights/Reports and RPD Documentation/Docu From Ms. Lea/RPD Metadata.gdoc' for reading: Operation not supported\n",
            "cp: cannot open '/gdrive/Shareddrives/BI Team  (Business Side)/./Retail Insights/Reports and RPD Documentation/OBIEE Reports Mapping.gsheet' for reading: Operation not supported\n",
            "cp: cannot open '/gdrive/Shareddrives/BI Team  (Business Side)/./BI Memos and Advisories/FAQs.gsheet' for reading: Operation not supported\n",
            "cp: cannot open '/gdrive/Shareddrives/BI Team  (Business Side)/./BI Memos and Advisories/BI Data Request Summary.gsheet' for reading: Operation not supported\n",
            "cp: cannot open '/gdrive/Shareddrives/BI Team  (Business Side)/./BI Memos and Advisories/FAQs, Issues and Concerns.gdoc' for reading: Operation not supported\n",
            "cp: cannot open '/gdrive/Shareddrives/BI Team  (Business Side)/./Request Monitoring/Accomplished DRFs/Y2020/94287_DRF_LORELEI CUICO_05.27.20.gsheet' for reading: Operation not supported\n",
            "cp: cannot open '/gdrive/Shareddrives/BI Team  (Business Side)/./Request Monitoring/DRF Tracker (old).gsheet' for reading: Operation not supported\n",
            "cp: cannot open '/gdrive/Shareddrives/BI Team  (Business Side)/./Inventory Validation/Inventory Position/Validation3/REPL_FLG validation RI vs RMS-05252020.gsheet' for reading: Operation not supported\n",
            "cp: cannot open '/gdrive/Shareddrives/BI Team  (Business Side)/./Inventory Validation/Inventory Correction in Retail Insights.gdoc' for reading: Operation not supported\n",
            "cp: cannot open '/gdrive/Shareddrives/BI Team  (Business Side)/./Inventory Validation/Inventory Fix Activities.gsheet' for reading: Operation not supported\n",
            "cp: cannot open '/gdrive/Shareddrives/BI Team  (Business Side)/./COMPANY WIDE PROJECTS/MRSGI Way 2.0/Measures for PSA MRSGI Report - Please validate.gsheet' for reading: Operation not supported\n",
            "cp: cannot open '/gdrive/Shareddrives/BI Team  (Business Side)/./Report Design Document (RDD)/BI Legacy Report/WOS Report/Inventory Reports.gsheet' for reading: Operation not supported\n",
            "cp: cannot open '/gdrive/Shareddrives/BI Team  (Business Side)/./Logic Recommended Reports (PSA & ISM)/PSA & ISM Reports Runtime Simulation.gsheet' for reading: Operation not supported\n"
          ],
          "name": "stdout"
        }
      ]
    },
    {
      "cell_type": "code",
      "metadata": {
        "colab": {
          "base_uri": "https://localhost:8080/"
        },
        "id": "_GlsOKGJ7wIE",
        "outputId": "b2050761-074d-48a7-fa02-803e2f522c3c"
      },
      "source": [
        "!cp -r '/gdrive/Shareddrives/Executive Reports/.' '/gdrive/Shareddrives/Personal Stuffs/GDrives/Executive Reports'"
      ],
      "execution_count": null,
      "outputs": [
        {
          "output_type": "stream",
          "text": [
            "cp: cannot open '/gdrive/Shareddrives/Executive Reports/./Ad-hoc Reports/All_Comp_Monthly Sales (Greg).gsheet' for reading: Operation not supported\n"
          ],
          "name": "stdout"
        }
      ]
    },
    {
      "cell_type": "code",
      "metadata": {
        "id": "UuT4Wg1d8w2o"
      },
      "source": [
        "!cp -r '/gdrive/Shareddrives/QVF Files/.' '/gdrive/Shareddrives/Personal Stuffs/GDrives/QVF Files'"
      ],
      "execution_count": null,
      "outputs": []
    },
    {
      "cell_type": "code",
      "metadata": {
        "colab": {
          "base_uri": "https://localhost:8080/"
        },
        "id": "vCX6yQzX8xgI",
        "outputId": "64144b1e-d091-485c-ac2c-4d34933bb577"
      },
      "source": [
        "!cp -r '/gdrive/Shareddrives/RI REPOSITORY/.' '/gdrive/Shareddrives/Personal Stuffs/GDrives/RI REPOSITORY'"
      ],
      "execution_count": null,
      "outputs": [
        {
          "output_type": "stream",
          "text": [
            "cp: cannot open '/gdrive/Shareddrives/RI REPOSITORY/./Manage Catalogs/Ad-Hoc Reports Catalog Maintenance/ Request Log Sheet.gsheet' for reading: Operation not supported\n",
            "cp: cannot open '/gdrive/Shareddrives/RI REPOSITORY/./Manage Catalogs/Out Of The Box Catalog Maintenance/Out of the Box Reports/Logic_Metro_RDD_ARPT002_Merchandise_Performance_V01.1.gdoc' for reading: Operation not supported\n",
            "cp: cannot open '/gdrive/Shareddrives/RI REPOSITORY/./Manage Catalogs/Out Of The Box Catalog Maintenance/Out of the Box Reports/Logic_Metro_RDD_ARPT003_Merchandise_Sales_&_Profit_Dashboard_V01.1.gdoc' for reading: Operation not supported\n",
            "cp: cannot open '/gdrive/Shareddrives/RI REPOSITORY/./Manage Catalogs/Out Of The Box Catalog Maintenance/Out of the Box Reports/Logic_Metro_RDD_ARPT001_Markdown_Dashboard.gdoc' for reading: Operation not supported\n",
            "cp: cannot open '/gdrive/Shareddrives/RI REPOSITORY/./Manage Catalogs/Out Of The Box Catalog Maintenance/Out of the Box Reports/Logic_Metro_RDD_ARPT004_Merchant_Dashboard_V01 (2).gdoc' for reading: Operation not supported\n",
            "cp: cannot open '/gdrive/Shareddrives/RI REPOSITORY/./Manage Catalogs/Out Of The Box Catalog Maintenance/Out of the Box Reports/Logic_Metro_RDD_ARPT005_Merchandising_Location_Analysis_Dashboard_V01.gdoc' for reading: Operation not supported\n",
            "cp: cannot open '/gdrive/Shareddrives/RI REPOSITORY/./Manage Catalogs/Out Of The Box Catalog Maintenance/Out of the Box Reports/Logic_Metro_RDD_ARPT006_Wholesale_Analysis_Dashboard_V01 (1).gdoc' for reading: Operation not supported\n",
            "cp: cannot open '/gdrive/Shareddrives/RI REPOSITORY/./Manage Catalogs/Out Of The Box Catalog Maintenance/Out of the Box Reports/Logic_Metro_RDD_ARPT007_Financial_Analysis_Dashboard_V01 (2).gdoc' for reading: Operation not supported\n",
            "cp: cannot open '/gdrive/Shareddrives/RI REPOSITORY/./Manage Catalogs/Out Of The Box Catalog Maintenance/Out of the Box Reports/Logic_Metro_RDD_ARPT008_Flash_Sales_Dashboard_V01.gdoc' for reading: Operation not supported\n",
            "cp: cannot open '/gdrive/Shareddrives/RI REPOSITORY/./Manage Catalogs/Out Of The Box Catalog Maintenance/Out of the Box Reports/Logic_Metro_RDD_ARPT009_Customer_Analysis_Dashboard.corrected.gdoc' for reading: Operation not supported\n",
            "cp: cannot open '/gdrive/Shareddrives/RI REPOSITORY/./Manage Catalogs/Out Of The Box Catalog Maintenance/OBIEE Request Log.gsheet' for reading: Operation not supported\n",
            "cp: cannot open '/gdrive/Shareddrives/RI REPOSITORY/./Manage Catalogs/Out Of The Box Catalog Maintenance/OOTB Reports Compilation (Definition).gsheet' for reading: Operation not supported\n",
            "cp: cannot open '/gdrive/Shareddrives/RI REPOSITORY/./Manage Catalogs/General Inquiries Catalog Maintenance/12 OBIEE Performance Tips You Need to Know.gdoc' for reading: Operation not supported\n",
            "cp: cannot open '/gdrive/Shareddrives/RI REPOSITORY/./Manage Catalogs/General Inquiries Catalog Maintenance/TTT_OBIEE_MRSGI.gslides' for reading: Operation not supported\n",
            "cp: cannot open '/gdrive/Shareddrives/RI REPOSITORY/./Manage Catalogs/General Inquiries Catalog Maintenance/OBIEE_End User Training.gslides' for reading: Operation not supported\n",
            "cp: cannot open '/gdrive/Shareddrives/RI REPOSITORY/./Manage Catalogs/General Inquiries Catalog Maintenance/RTVM.gsheet' for reading: Operation not supported\n",
            "cp: cannot open '/gdrive/Shareddrives/RI REPOSITORY/./Manage Catalogs/General Inquiries Catalog Maintenance/Metro Future Report Security V01.gslides' for reading: Operation not supported\n",
            "cp: cannot open '/gdrive/Shareddrives/RI REPOSITORY/./Manage Catalogs/General Inquiries Catalog Maintenance/Issues Concerns.gdoc' for reading: Operation not supported\n",
            "cp: cannot open '/gdrive/Shareddrives/RI REPOSITORY/./Manage Catalogs/General Inquiries Catalog Maintenance/General Inquiries Request Log.gsheet' for reading: Operation not supported\n",
            "cp: cannot open '/gdrive/Shareddrives/RI REPOSITORY/./Manage Catalogs/General Inquiries Catalog Maintenance/Copy of Metro Future Report Security V01.gslides' for reading: Operation not supported\n",
            "cp: cannot open '/gdrive/Shareddrives/RI REPOSITORY/./Manage Catalogs/BI Documentations (1)/Revision Log Sheet.gsheet' for reading: Operation not supported\n",
            "cp: cannot open '/gdrive/Shareddrives/RI REPOSITORY/./Manage Catalogs/Custom Reports Catalog Maintenance/Custom Reports Catalog .gsheet' for reading: Operation not supported\n",
            "cp: cannot open '/gdrive/Shareddrives/RI REPOSITORY/./Manage Catalogs/Custom Reports Catalog Maintenance/Custom Reports Log Sheet.gsheet' for reading: Operation not supported\n",
            "cp: cannot open '/gdrive/Shareddrives/RI REPOSITORY/./Manage Catalogs/Change Request Log Sheet.gsheet' for reading: Operation not supported\n",
            "cp: cannot open '/gdrive/Shareddrives/RI REPOSITORY/./Manage Requests/Manage Requests.../Cover Page (01).gdoc' for reading: Operation not supported\n",
            "cp: cannot open '/gdrive/Shareddrives/RI REPOSITORY/./Manage Requests/Manage Requests.../PM Appendix (01).gdoc' for reading: Operation not supported\n",
            "cp: cannot open '/gdrive/Shareddrives/RI REPOSITORY/./Manage Requests/Manage Requests.../Manage General Questions.gdoc' for reading: Operation not supported\n",
            "cp: cannot open '/gdrive/Shareddrives/RI REPOSITORY/./Manage Requests/Manage Requests.../Manage Change Request.gdoc' for reading: Operation not supported\n",
            "cp: cannot open '/gdrive/Shareddrives/RI REPOSITORY/./Manage Requests/Manage Requests.../Manage New Reports.gdoc' for reading: Operation not supported\n",
            "cp: cannot open '/gdrive/Shareddrives/RI REPOSITORY/./Manage Requests/Manage Requests.../Manage Ad-Hoc Reports.gdoc' for reading: Operation not supported\n",
            "cp: cannot open '/gdrive/Shareddrives/RI REPOSITORY/./Manage Metadata/RI Abbreviations.gsheet' for reading: Operation not supported\n"
          ],
          "name": "stdout"
        }
      ]
    },
    {
      "cell_type": "markdown",
      "metadata": {
        "id": "KpNEy0CLYjJK"
      },
      "source": [
        "My Drive back-up copy as of 4.2.21"
      ]
    },
    {
      "cell_type": "code",
      "metadata": {
        "colab": {
          "base_uri": "https://localhost:8080/"
        },
        "id": "DdFCULFDYyzN",
        "outputId": "1e701e2f-1b36-47f4-f6a0-8a81793faf8f"
      },
      "source": [
        "from google.colab import drive\n",
        "drive.mount('/gdrive')\n",
        "\n"
      ],
      "execution_count": null,
      "outputs": [
        {
          "output_type": "stream",
          "text": [
            "Mounted at /gdrive\n"
          ],
          "name": "stdout"
        }
      ]
    },
    {
      "cell_type": "code",
      "metadata": {
        "colab": {
          "base_uri": "https://localhost:8080/"
        },
        "id": "Wj1nyxeBZuqg",
        "outputId": "ec74a195-04d5-4280-f2f5-bce569a54ea7"
      },
      "source": [
        "%cd /gdrive/My Drive/My Drive"
      ],
      "execution_count": null,
      "outputs": [
        {
          "output_type": "stream",
          "text": [
            "/gdrive/My Drive/My Drive\n"
          ],
          "name": "stdout"
        }
      ]
    },
    {
      "cell_type": "code",
      "metadata": {
        "colab": {
          "base_uri": "https://localhost:8080/",
          "height": 35
        },
        "id": "kB16lZQ9Zzdy",
        "outputId": "ffd36e27-fd80-4e96-eb69-46ecbadc4de4"
      },
      "source": [
        "pwd"
      ],
      "execution_count": null,
      "outputs": [
        {
          "output_type": "execute_result",
          "data": {
            "application/vnd.google.colaboratory.intrinsic+json": {
              "type": "string"
            },
            "text/plain": [
              "'/gdrive/My Drive/My Drive'"
            ]
          },
          "metadata": {
            "tags": []
          },
          "execution_count": 3
        }
      ]
    },
    {
      "cell_type": "code",
      "metadata": {
        "colab": {
          "base_uri": "https://localhost:8080/"
        },
        "id": "eCDgVG1vZ5rb",
        "outputId": "1ca10f38-0c4e-4c56-d81e-761e49f4c719"
      },
      "source": [
        "!cp -r '/gdrive/My Drive/My Drive/.' '/gdrive/Shareddrives/Personal Stuffs/GDrives/My Drive'"
      ],
      "execution_count": null,
      "outputs": [
        {
          "output_type": "stream",
          "text": [
            "cp: cannot open '/gdrive/My Drive/My Drive/./Untitled document.gdoc' for reading: Operation not supported\n",
            "cp: cannot open '/gdrive/My Drive/My Drive/./Planner Assignment_Nov 11.gsheet' for reading: Operation not supported\n",
            "cp: cannot open '/gdrive/My Drive/My Drive/./p_and_g_items_soh_2019-11-12.gsheet' for reading: Operation not supported\n",
            "cp: cannot open '/gdrive/My Drive/My Drive/./Copy of 12 Days of Christmas ala MOPC.gsheet' for reading: Operation not supported\n",
            "cp: cannot open '/gdrive/My Drive/My Drive/./Shared Files for Metro Team/Thai Rice Monitoring (as of Dec 15, 2019).gsheet' for reading: Operation not supported\n",
            "cp: cannot open '/gdrive/My Drive/My Drive/./Shared Files for Metro Team/OBIEE Users (Marketing).gsheet' for reading: Operation not supported\n",
            "cp: cannot open '/gdrive/My Drive/My Drive/./Shared Files for Metro Team/Planning/PPT Slides/SALES CLUSTER -- Food Retail 02.26.2020.gslides' for reading: Operation not supported\n",
            "cp: cannot open '/gdrive/My Drive/My Drive/./Shared Files for Metro Team/Food Retail/STORE DESC.gsheet' for reading: Operation not supported\n",
            "cp: cannot open '/gdrive/My Drive/My Drive/./Shared Files for Metro Team/Food Retail/USER.gsheet' for reading: Operation not supported\n",
            "cp: cannot open '/gdrive/My Drive/My Drive/./Shared Files for Metro Team/Food Retail/MTD_STR_SC.gsheet' for reading: Operation not supported\n",
            "cp: cannot open '/gdrive/My Drive/My Drive/./Shared Files for Metro Team/Food Retail/Untitled spreadsheet.gsheet' for reading: Operation not supported\n",
            "cp: cannot open '/gdrive/My Drive/My Drive/./BI Team.gsite' for reading: Operation not supported\n",
            "cp: cannot open '/gdrive/My Drive/My Drive/./Untitled spreadsheet (2).gsheet' for reading: Operation not supported\n",
            "cp: cannot open '/gdrive/My Drive/My Drive/./Untitled spreadsheet (1).gsheet' for reading: Operation not supported\n",
            "cp: cannot open '/gdrive/My Drive/My Drive/./Untitled spreadsheet.gsheet' for reading: Operation not supported\n",
            "cp: cannot open '/gdrive/My Drive/My Drive/./Manage Regular Reports.gjam' for reading: Operation not supported\n",
            "cp: cannot open '/gdrive/My Drive/My Drive/./TXN COUNT & AVG BASKET SIZE REPORT_03.28.20.gsheet' for reading: Operation not supported\n",
            "cp: cannot open '/gdrive/My Drive/My Drive/./WFH Monitoring/RMGevana.gsheet' for reading: Operation not supported\n",
            "cp: cannot open '/gdrive/My Drive/My Drive/./WFH Monitoring/BI WFH Attendance.gsheet' for reading: Operation not supported\n",
            "cp: cannot open '/gdrive/My Drive/My Drive/./WFH Monitoring/Daily Accomp Report_Roel G.gsheet' for reading: Operation not supported\n",
            "cp: cannot open '/gdrive/My Drive/My Drive/./WFH Monitoring/BI ATTENDANCE SHEET (WFH)_for submission to HR.gsheet' for reading: Operation not supported\n",
            "cp: cannot open '/gdrive/My Drive/My Drive/./WFH Monitoring/BI Work Sched  Aug 10-21.gsheet' for reading: Operation not supported\n",
            "cp: cannot open '/gdrive/My Drive/My Drive/./WFH Monitoring/BI Work Sched May 18-Jul 3, 2020.gsheet' for reading: Operation not supported\n",
            "cp: cannot open '/gdrive/My Drive/My Drive/./WFH Monitoring/BI Work Sched May 4-15.gsheet' for reading: Operation not supported\n",
            "cp: cannot open '/gdrive/My Drive/My Drive/./WFH Monitoring/BI Work Sched June 8 - 19.gsheet' for reading: Operation not supported\n",
            "cp: cannot open '/gdrive/My Drive/My Drive/./WFH Monitoring/BI Work Sched  Sept 1-30, 2020.gsheet' for reading: Operation not supported\n",
            "cp: cannot open '/gdrive/My Drive/My Drive/./WFH Monitoring/BI Work Sched  Aug 24 - Sep 4.gsheet' for reading: Operation not supported\n",
            "cp: cannot open '/gdrive/My Drive/My Drive/./Acct Pass.gsheet' for reading: Operation not supported\n",
            "cp: cannot open '/gdrive/My Drive/My Drive/./WEEKLY OPP LOSS & IN-STOCK REPORT_01.20.2020.gsheet' for reading: Operation not supported\n",
            "cp: cannot open '/gdrive/My Drive/My Drive/./Help centre.gsite' for reading: Operation not supported\n",
            "cp: cannot open '/gdrive/My Drive/My Drive/./Project.gsite' for reading: Operation not supported\n",
            "cp: cannot open '/gdrive/My Drive/My Drive/./Event (1).gsite' for reading: Operation not supported\n",
            "cp: cannot open '/gdrive/My Drive/My Drive/./Event.gsite' for reading: Operation not supported\n",
            "cp: cannot open '/gdrive/My Drive/My Drive/./Team.gsite' for reading: Operation not supported\n",
            "cp: cannot open '/gdrive/My Drive/My Drive/./Inventory Fix.gdoc' for reading: Operation not supported\n",
            "cp: cannot open '/gdrive/My Drive/My Drive/./80181:Bacolod_Whse Items with zero OH in store (as of 22-JUN-20).gsheet' for reading: Operation not supported\n",
            "cp: cannot open '/gdrive/My Drive/My Drive/./Access Form for Data Repositories (Responses).gsheet' for reading: Operation not supported\n",
            "cp: cannot open '/gdrive/My Drive/My Drive/./Inventory Simulation Meeting.gsheet' for reading: Operation not supported\n",
            "cp: cannot open '/gdrive/My Drive/My Drive/./orig_roel_BI ATTENDANCE SHEET (WFH)_for submission to HR.gsheet' for reading: Operation not supported\n",
            "cp: cannot open '/gdrive/My Drive/My Drive/./00. PLANNING- Grocery and Fresh/Contacts/Planning- Grocery & Fresh.gform' for reading: Operation not supported\n",
            "cp: cannot open '/gdrive/My Drive/My Drive/./00. PLANNING- Grocery and Fresh/Re-Org/Merchandising Org - 102320.gsheet' for reading: Operation not supported\n",
            "cp: cannot open '/gdrive/My Drive/My Drive/./00. PLANNING- Grocery and Fresh/Planning - FO Attendance.gform' for reading: Operation not supported\n",
            "cp: cannot open '/gdrive/My Drive/My Drive/./00. PLANNING- Grocery and Fresh/Planning - FO Attendance (Responses).gsheet' for reading: Operation not supported\n",
            "cp: cannot open '/gdrive/My Drive/My Drive/./00. PLANNING- Grocery and Fresh/Planning- Grocery & Fresh (Responses).gsheet' for reading: Operation not supported\n",
            "cp: cannot open '/gdrive/My Drive/My Drive/./Store Mapping.gsheet' for reading: Operation not supported\n",
            "cp: cannot open '/gdrive/My Drive/My Drive/./Sales_GM_perStore_perDept_PTD_SEP20 11.11.20 final run.gsheet' for reading: Operation not supported\n",
            "cp: cannot open '/gdrive/My Drive/My Drive/./CDO HAM AND CHEESE PROMO.gsheet' for reading: Operation not supported\n",
            "cp: cannot open '/gdrive/My Drive/My Drive/./PTD_Class Level Sales.gsheet' for reading: Operation not supported\n",
            "cp: cannot open '/gdrive/My Drive/My Drive/./YTD Daily Sales Report - Graphical View.gsheet' for reading: Operation not supported\n",
            "cp: cannot open '/gdrive/My Drive/My Drive/./FOOD RETAIL_Y2021 PS MO PLANS_12.31.20.gsheet' for reading: Operation not supported\n",
            "cp: cannot open '/gdrive/My Drive/My Drive/./Presentations/BI ORIENTATION_10.15.19.gslides' for reading: Operation not supported\n",
            "cp: cannot open '/gdrive/My Drive/My Drive/./BCP-Merch.gsheet' for reading: Operation not supported\n",
            "cp: cannot open '/gdrive/My Drive/My Drive/./QLIK NI BAI FRANK.gdoc' for reading: Operation not supported\n",
            "cp: cannot open '/gdrive/My Drive/My Drive/./METRORETAIL.PH SAMPLE.gsheet' for reading: Operation not supported\n",
            "cp: cannot open '/gdrive/My Drive/My Drive/./List of Vendor Codes.gsheet' for reading: Operation not supported\n",
            "cp: cannot open '/gdrive/My Drive/My Drive/./Inventory Fix Discussion.gdoc' for reading: Operation not supported\n",
            "cp: cannot open '/gdrive/My Drive/My Drive/./Group 4.gdoc' for reading: Operation not supported\n",
            "cp: cannot open '/gdrive/My Drive/My Drive/./Group 4.gsheet' for reading: Operation not supported\n",
            "cp: cannot open '/gdrive/My Drive/My Drive/./BI Team/RPD/RPD Revision Log.gform' for reading: Operation not supported\n",
            "cp: cannot open '/gdrive/My Drive/My Drive/./BI Team/RPD/connection_pools.gdoc' for reading: Operation not supported\n",
            "cp: cannot open '/gdrive/My Drive/My Drive/./BI Team/RPD/RPD Revision Log.gsheet' for reading: Operation not supported\n",
            "cp: cannot open '/gdrive/My Drive/My Drive/./BI Team/RDD (BI Legacy Report)/RDD_Sales and Margin (without ISO).gsheet' for reading: Operation not supported\n",
            "cp: cannot open '/gdrive/My Drive/My Drive/./BI Team/RDD (BI Legacy Report)/RDD_Sales and Margin (with Week Prompts).gsheet' for reading: Operation not supported\n",
            "cp: cannot open '/gdrive/My Drive/My Drive/./BI Team/RDD (BI Legacy Report)/CTM004_Weekly Margin (Planning).gdoc' for reading: Operation not supported\n",
            "cp: cannot open '/gdrive/My Drive/My Drive/./BI Team/RDD (BI Legacy Report)/RDD_Daily Sales Performance.gsheet' for reading: Operation not supported\n",
            "cp: cannot open '/gdrive/My Drive/My Drive/./BI Team/RDD (BI Legacy Report)/CTM005_SMKT Top 100 Negative SOH.gdoc' for reading: Operation not supported\n",
            "cp: cannot open '/gdrive/My Drive/My Drive/./BI Team/RDD (BI Legacy Report)/CTM006_Whse Instock Report.gdoc' for reading: Operation not supported\n",
            "cp: cannot open '/gdrive/My Drive/My Drive/./BI Team/RDD (BI Legacy Report)/CTM007_Line Review Dashboard.gdoc' for reading: Operation not supported\n",
            "cp: cannot open '/gdrive/My Drive/My Drive/./BI Team/RDD (BI Legacy Report)/CTM009_COVID-19 Essential Items.gdoc' for reading: Operation not supported\n",
            "cp: cannot open '/gdrive/My Drive/My Drive/./BI Team/RDD (BI Legacy Report)/RDD_Item Forecast Scorecard.gsheet' for reading: Operation not supported\n",
            "cp: cannot open '/gdrive/My Drive/My Drive/./BI Team/Request Monitoring/Accomplished DRFs/101011_DRF_LOUIEMAR DACLAN_090120.gsheet' for reading: Operation not supported\n",
            "cp: cannot open '/gdrive/My Drive/My Drive/./BI Team/Request Monitoring/DRF Tracker (old).gsheet' for reading: Operation not supported\n",
            "cp: cannot open '/gdrive/My Drive/My Drive/./BI Team/OBIEE Reports/Merchandising Analytics/change log/log_06.28.19_.gsheet' for reading: Operation not supported\n",
            "cp: cannot open '/gdrive/My Drive/My Drive/./BI Team/OBIEE Reports/OBIEE Reports Revision log.gform' for reading: Operation not supported\n",
            "cp: cannot open '/gdrive/My Drive/My Drive/./BI Team/OBIEE Reports/OBIEE Reports Revision log (Responses).gsheet' for reading: Operation not supported\n",
            "cp: cannot open '/gdrive/My Drive/My Drive/./BI Team/OBIEE Reports/OBIEE Custom Reports.gsheet' for reading: Operation not supported\n",
            "cp: cannot open '/gdrive/My Drive/My Drive/./BI Team/Events/Major Event Prep Checklist.gsheet' for reading: Operation not supported\n",
            "cp: cannot open '/gdrive/My Drive/My Drive/./BI Team/Codes and Look-ups/Merch and Loc Hierarchy.gsheet' for reading: Operation not supported\n",
            "cp: cannot open '/gdrive/My Drive/My Drive/./BI Team/Codes and Look-ups/POS by Store.gsheet' for reading: Operation not supported\n",
            "cp: cannot open '/gdrive/My Drive/My Drive/./BI Team/BI Administration/OT Tracker.gsheet' for reading: Operation not supported\n",
            "cp: cannot open '/gdrive/My Drive/My Drive/./BI Team/BI Administration/WFH- LOG.gsheet' for reading: Operation not supported\n",
            "cp: cannot open '/gdrive/My Drive/My Drive/./BI Team/BI Administration/Leave Tracker.gsheet' for reading: Operation not supported\n",
            "cp: cannot open '/gdrive/My Drive/My Drive/./BI Team/BI Administration/Lapu-lapu Residence.gsheet' for reading: Operation not supported\n",
            "cp: cannot open '/gdrive/My Drive/My Drive/./BI Team/BI Administration/BI WFH- LOG.gsheet' for reading: Operation not supported\n",
            "cp: cannot open '/gdrive/My Drive/My Drive/./BI Team/BI Administration/BI & Planning Issues.gsheet' for reading: Operation not supported\n",
            "cp: cannot open '/gdrive/My Drive/My Drive/./BI Team/BI Administration/Shared Drive Access.gsheet' for reading: Operation not supported\n",
            "cp: cannot open '/gdrive/My Drive/My Drive/./BI Team/2020 Priorities.gsheet' for reading: Operation not supported\n",
            "cp: cannot open '/gdrive/My Drive/My Drive/./BI Team/Inventory Validation/Analysis - Tables Hit.gsheet' for reading: Operation not supported\n",
            "cp: cannot open '/gdrive/My Drive/My Drive/./BI Team/000. FILE DIRECTORY.gsheet' for reading: Operation not supported\n",
            "cp: cannot open '/gdrive/My Drive/My Drive/./BI Team/Projects/Project Monitoring/BI Project Tracker 2019.gsheet' for reading: Operation not supported\n",
            "cp: cannot open '/gdrive/My Drive/My Drive/./BI Team/Projects/Project Monitoring/BI Project Monitoring.gsheet' for reading: Operation not supported\n",
            "cp: cannot open '/gdrive/My Drive/My Drive/./BI Team/Projects/Inventory Report.gdoc' for reading: Operation not supported\n",
            "cp: cannot open '/gdrive/My Drive/My Drive/./BI Team/Reports BI Tools Monitoring (old).gsheet' for reading: Operation not supported\n",
            "cp: cannot open '/gdrive/My Drive/My Drive/./Personal (Metro)/Sinking/Sinking.gsheet' for reading: Operation not supported\n",
            "cp: cannot open '/gdrive/My Drive/My Drive/./Personal (Metro)/Sinking/Ms MJ Sinking 2020.gsheet' for reading: Operation not supported\n",
            "cp: cannot open '/gdrive/My Drive/My Drive/./Personal (Metro)/HRIS Leave Logs.gsheet' for reading: Operation not supported\n",
            "cp: cannot open '/gdrive/My Drive/My Drive/./Personal (Metro)/Recuva Files Recover_1.6.20.gsheet' for reading: Operation not supported\n",
            "cp: cannot open '/gdrive/My Drive/My Drive/./Personal (Metro)/Metro Attendance.gsheet' for reading: Operation not supported\n",
            "cp: cannot open '/gdrive/My Drive/My Drive/./Personal (Metro)/COL Transaction.gsheet' for reading: Operation not supported\n"
          ],
          "name": "stdout"
        }
      ]
    }
  ]
}